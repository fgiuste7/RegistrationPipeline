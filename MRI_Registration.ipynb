{
 "cells": [
  {
   "cell_type": "code",
   "execution_count": 4,
   "metadata": {},
   "outputs": [],
   "source": [
    "from nipype import SelectFiles, Node, MapNode, Workflow, Function\n",
    "from nipype.interfaces import fsl, ants\n",
    "from os.path import abspath\n",
    "from IPython.display import Image\n",
    "from nipype.interfaces.fsl import ExtractROI\n",
    "from nipype.interfaces.fsl import ImageStats\n",
    "from nipype import config\n",
    "\n",
    "cfg = dict(execution={'remove_unnecessary_outputs': False,\n",
    "                      'keep_inputs': True}\n",
    "          )\n",
    "config.update_config(cfg)"
   ]
  },
  {
   "cell_type": "code",
   "execution_count": null,
   "metadata": {},
   "outputs": [],
   "source": [
    "# Node: SelectFiles\n",
    "## Selects input file \"test_1.nii.gz\" from directory \"/Users/fgiuste/Google Drive/Luyuan_Gliomics\"\n",
    "# test_1.nii.gz: 100x200x450x30\n",
    "templates={'pre': 'TCGA-*/[0-9][0-9]-[0-9][0-9]-[0-9][0-9][0-9][0-9]/T1-AXIAL_PREGD.nii.gz'\n",
    "          }\n",
    "sfT1 = Node(SelectFiles(templates),\n",
    "          name='selectT1'\n",
    "          )\n",
    "sfT1.inputs.base_directory = '/data/'\n",
    "\n",
    "#overwrite = True\n",
    "sfT1.run().outputs\n",
    "\n"
   ]
  },
  {
   "cell_type": "code",
   "execution_count": null,
   "metadata": {},
   "outputs": [],
   "source": [
    "# Run FSL FLIRT\n",
    "\n",
    "flrt = MapNode(fsl.FLIRT(bins=640),\n",
    "               name = 'FLIRT',\n",
    "               iterfield = 'in_file',\n",
    "               overwrite = False\n",
    "              )\n",
    "\n",
    "flt.inputs.reference = '/usr/share/fsl/5.0/data/standard/MNI152_T1_1mm.nii.gz'\n",
    "# MNI152_T1_1mm_brain.nii.gz\n",
    "# MNI152_T1_1mm_brain_mask.nii.gz\n",
    "flrt.inputs.output_type = \"NIFTI_GZ\"\n"
   ]
  },
  {
   "cell_type": "code",
   "execution_count": null,
   "metadata": {},
   "outputs": [],
   "source": [
    "# Run FSL FNRT\n",
    "\n",
    "fnrt = MapNode(fsl.FNIRT(),\n",
    "               name = 'FNIRT',\n",
    "               iterfield = 'in_file',\n",
    "               overwrite = False\n",
    "              )\n",
    "fnlt.inputs.reference = 'mni152.nii.gz'"
   ]
  },
  {
   "cell_type": "code",
   "execution_count": null,
   "metadata": {},
   "outputs": [],
   "source": [
    "# Run FSL ANTS\n",
    "\n",
    "ants = MapNode(ants.ANTS(),\n",
    "               name = 'ANTS',\n",
    "               iterfield = 'in_file',\n",
    "               overwrite = False\n",
    "              )"
   ]
  },
  {
   "cell_type": "code",
   "execution_count": null,
   "metadata": {},
   "outputs": [],
   "source": [
    "# Workflow: Initialize\n",
    "wf = Workflow(name=\"MRI_Registration\")\n",
    "wf.base_dir = sfT1.inputs.base_directory"
   ]
  },
  {
   "cell_type": "code",
   "execution_count": null,
   "metadata": {},
   "outputs": [],
   "source": [
    "# Make Connections\n",
    "\n",
    "wf.connect(sfT1, \"pre\", flrt, \"in_file\")\n",
    "wf.connect(sfT1, \"pre\", fnrt, \"in_file\")\n",
    "wf.connect(sfT1, \"pre\", ants, \"in_file\")\n",
    "\n",
    "wf.connect(flrt, \"affine_file\", fnrt, \"affine_file\")\n"
   ]
  },
  {
   "cell_type": "code",
   "execution_count": null,
   "metadata": {},
   "outputs": [],
   "source": [
    "# Workflow: Graph: Exec\n",
    "wf.write_graph(graph2use='exec', dotfilename= sfT1.inputs.base_directory+'/graph_exec.dot' )\n",
    "\n",
    "# Visualize graph\n",
    "Image(filename= sfT1.inputs.base_directory+'/graph_exec.png' )"
   ]
  },
  {
   "cell_type": "code",
   "execution_count": null,
   "metadata": {},
   "outputs": [],
   "source": [
    "wf.run(plugin='MultiProc', plugin_args={'n_procs': 8})\n",
    "# wf.run()"
   ]
  }
 ],
 "metadata": {
  "kernelspec": {
   "display_name": "Python [default]",
   "language": "python",
   "name": "python3"
  },
  "language_info": {
   "codemirror_mode": {
    "name": "ipython",
    "version": 3
   },
   "file_extension": ".py",
   "mimetype": "text/x-python",
   "name": "python",
   "nbconvert_exporter": "python",
   "pygments_lexer": "ipython3",
   "version": "3.6.3"
  }
 },
 "nbformat": 4,
 "nbformat_minor": 2
}
